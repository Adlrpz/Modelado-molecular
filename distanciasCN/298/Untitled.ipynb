{
 "cells": [
  {
   "cell_type": "code",
   "execution_count": 6,
   "id": "9187690e-5dc1-49f5-8a53-f1c60c27502b",
   "metadata": {},
   "outputs": [
    {
     "name": "stdout",
     "output_type": "stream",
     "text": [
      "Frecuencia estimada: 46.59 THz\n"
     ]
    }
   ],
   "source": [
    "import numpy as np\n",
    "from scipy.signal import find_peaks\n",
    "\n",
    "# Función para leer el archivo .xvg\n",
    "def leer_xvg(ruta_archivo):\n",
    "    tiempos, distancias = [], []\n",
    "    with open(ruta_archivo, 'r') as archivo:\n",
    "        for linea in archivo:\n",
    "            if not linea.startswith((\"#\", \"@\")):  # Ignorar comentarios\n",
    "                valores = linea.split()\n",
    "                tiempos.append(float(valores[0]))      # Columna 1: tiempo\n",
    "                distancias.append(float(valores[1]))   # Columna 2: distancia\n",
    "    return np.array(tiempos), np.array(distancias)\n",
    "\n",
    "# Leer los datos del archivo .xvg\n",
    "tiempo, distancia = leer_xvg(\"dist.xvg\")\n",
    "\n",
    "# Suavizar la señal para reducir el ruido (opcional)\n",
    "def suavizar_señal(signal, window_size=5):\n",
    "    return np.convolve(signal, np.ones(window_size)/window_size, mode='same')\n",
    "\n",
    "# Suavizar la señal para mejorar la detección de ciclos\n",
    "distancia_suavizada = suavizar_señal(distancia)\n",
    "\n",
    "# Detectar los máximos y mínimos locales en la señal suavizada\n",
    "picos, _ = find_peaks(distancia_suavizada)  # Máximos locales\n",
    "valles, _ = find_peaks(-distancia_suavizada)  # Mínimos locales\n",
    "\n",
    "# Considerar el tiempo entre un máximo y el siguiente máximo o entre mínimo y mínimo como el período\n",
    "# El período promedio es la distancia entre los máximos consecutivos\n",
    "\n",
    "if len(picos) > 1:\n",
    "    periodos = np.diff(tiempo[picos])  # Diferencia entre los tiempos de picos consecutivos\n",
    "    frecuencia = 1 / np.mean(periodos)  # Calcular la frecuencia a partir del periodo\n",
    "    print(f\"Frecuencia estimada: {frecuencia:.2f} THz\")\n",
    "else:\n",
    "    print(\"No se detectaron suficientes picos para calcular la frecuencia.\")\n",
    "\n"
   ]
  }
 ],
 "metadata": {
  "kernelspec": {
   "display_name": "Python 3.9",
   "language": "python",
   "name": "python3"
  },
  "language_info": {
   "codemirror_mode": {
    "name": "ipython",
    "version": 3
   },
   "file_extension": ".py",
   "mimetype": "text/x-python",
   "name": "python",
   "nbconvert_exporter": "python",
   "pygments_lexer": "ipython3",
   "version": "3.9.21"
  }
 },
 "nbformat": 4,
 "nbformat_minor": 5
}
