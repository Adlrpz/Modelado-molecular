{
 "cells": [
  {
   "cell_type": "code",
   "execution_count": 2,
   "id": "8e113901-25fe-4d51-b30b-52a2ca3e5527",
   "metadata": {},
   "outputs": [
    {
     "name": "stdout",
     "output_type": "stream",
     "text": [
      "Gráfico guardado en: 298/distancia_vs_tiempo.png\n",
      "Gráfico guardado en: 400/distancia_vs_tiempo.png\n"
     ]
    }
   ],
   "source": [
    "import numpy as np\n",
    "import matplotlib.pyplot as plt\n",
    "import os\n",
    "\n",
    "# Función para leer datos desde un archivo .xvg\n",
    "def leer_xvg(ruta_archivo):\n",
    "    tiempos, distancias = [], []\n",
    "    with open(ruta_archivo, 'r') as archivo:\n",
    "        for linea in archivo:\n",
    "            if not linea.startswith((\"#\", \"@\")):  # Ignorar comentarios y encabezados\n",
    "                valores = linea.split()\n",
    "                tiempos.append(float(valores[0]))      # Primera columna: tiempo\n",
    "                distancias.append(float(valores[1]))   # Segunda columna: distancia\n",
    "    return np.array(tiempos), np.array(distancias)\n",
    "\n",
    "# Definir las carpetas y nombres de archivos\n",
    "carpetas = [\"298\", \"400\"]  # Carpetas con los datos\n",
    "archivos_xvg = [\"298/dist.xvg\", \"400/dist.xvg\"]  # Rutas de los archivos .xvg\n",
    "\n",
    "# Iterar sobre cada carpeta para generar una gráfica separada\n",
    "for carpeta, archivo_xvg in zip(carpetas, archivos_xvg):\n",
    "    # Leer datos del archivo .xvg\n",
    "    tiempo, distancia = leer_xvg(archivo_xvg)\n",
    "    \n",
    "    # Crear la figura para cada carpeta\n",
    "    plt.figure(figsize=(8, 5))\n",
    "    plt.plot(tiempo, distancia, label=f\"{carpeta}K\", color=\"blue\", linestyle=\"-\", linewidth=2)\n",
    "\n",
    "    # Personalizar ejes\n",
    "    plt.xlabel(\"Tiempo (ps)\", fontsize=14)\n",
    "    plt.ylabel(\"Distancia (nm)\", fontsize=14)\n",
    "    plt.title(f\"Distancia vs. Tiempo a {carpeta}K\", fontsize=16)\n",
    "    plt.legend(fontsize=12)\n",
    "    plt.grid(True, linestyle=\"--\", alpha=0.6)\n",
    "\n",
    "    # Guardar la imagen en su carpeta correspondiente\n",
    "    ruta_salida = os.path.join(carpeta, \"distancia_vs_tiempo.png\")\n",
    "    plt.savefig(ruta_salida, dpi=300, bbox_inches=\"tight\")\n",
    "    plt.close()  # Cerrar la figura para evitar sobrecarga de memoria\n",
    "    print(f\"Gráfico guardado en: {ruta_salida}\")\n"
   ]
  }
 ],
 "metadata": {
  "kernelspec": {
   "display_name": "Python 3.9",
   "language": "python",
   "name": "python3"
  },
  "language_info": {
   "codemirror_mode": {
    "name": "ipython",
    "version": 3
   },
   "file_extension": ".py",
   "mimetype": "text/x-python",
   "name": "python",
   "nbconvert_exporter": "python",
   "pygments_lexer": "ipython3",
   "version": "3.9.21"
  }
 },
 "nbformat": 4,
 "nbformat_minor": 5
}
