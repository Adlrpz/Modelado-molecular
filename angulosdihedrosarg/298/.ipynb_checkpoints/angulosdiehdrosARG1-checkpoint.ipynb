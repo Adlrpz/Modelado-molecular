{
 "cells": [
  {
   "cell_type": "code",
   "execution_count": null,
   "id": "801a9741-9362-4c0e-8338-f4ff0ee397ea",
   "metadata": {},
   "outputs": [],
   "source": [
    "import numpy as np\n",
    "import matplotlib.pyplot as plt\n",
    "\n",
    "# Cargar datos\n",
    "phi_data = np.loadtxt(\"phi-arg-3.dat\", usecols=[1])\n",
    "psi_data = np.loadtxt(\"psi-arg-3.dat\", usecols=[1])\n",
    "\n",
    "# Crear un eje de tiempo basado en el número de datos\n",
    "time_steps = np.arange(len(phi_data))\n",
    "\n",
    "# Gráfica de evolución de φ\n",
    "plt.figure(figsize=(8, 5))\n",
    "plt.plot(time_steps, phi_data, marker=\"o\", linestyle=\"-\", markersize=2, label=\"Ángulo φ\")\n",
    "plt.xlabel(\"Paso de tiempo\")\n",
    "plt.ylabel(\"Ángulo φ (grados)\")\n",
    "plt.title(\"Evolución del ángulo φ de ARG-3\")\n",
    "plt.grid()\n",
    "plt.legend()\n",
    "plt.savefig(\"phi_evolucion.png\", dpi=300)  # Guardar figura\n",
    "plt.show()\n",
    "\n",
    "# Gráfica de evolución de ψ\n",
    "plt.figure(figsize=(8, 5))\n",
    "plt.plot(time_steps, psi_data, marker=\"o\", linestyle=\"-\", markersize=2, label=\"Ángulo ψ\", color=\"red\")\n",
    "plt.xlabel(\"Paso de tiempo\")\n",
    "plt.ylabel(\"Ángulo ψ (grados)\")\n",
    "plt.title(\"Evolución del ángulo ψ de ARG-3\")\n",
    "plt.grid()\n",
    "plt.legend()\n",
    "plt.savefig(\"psi_evolucion.png\", dpi=300)\n",
    "plt.show()\n",
    "\n",
    "# Mapa de Ramachandran (φ vs ψ)\n",
    "plt.figure(figsize=(7, 7))\n",
    "plt.scatter(phi_data, psi_data, c=\"blue\", alpha=0.5, s=5)  # Scatter plot\n",
    "plt.xlabel(\"Ángulo φ (grados)\")\n",
    "plt.ylabel(\"Ángulo ψ (grados)\")\n",
    "plt.title(\"Mapa de Ramachandran de ARG-3\")\n",
    "plt.xlim(-180, 180)\n",
    "plt.ylim(-180, 180)\n",
    "plt.grid()\n",
    "plt.savefig(\"ramachandran.png\", dpi=300)\n",
    "plt.show()\n"
   ]
  }
 ],
 "metadata": {
  "kernelspec": {
   "display_name": "Python 3.9",
   "language": "python",
   "name": "python3"
  },
  "language_info": {
   "codemirror_mode": {
    "name": "ipython",
    "version": 3
   },
   "file_extension": ".py",
   "mimetype": "text/x-python",
   "name": "python",
   "nbconvert_exporter": "python",
   "pygments_lexer": "ipython3",
   "version": "3.9.21"
  }
 },
 "nbformat": 4,
 "nbformat_minor": 5
}
