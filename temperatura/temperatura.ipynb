{
 "cells": [
  {
   "cell_type": "code",
   "execution_count": 1,
   "id": "1cd35908-b3c1-4d2f-b280-612688b0594d",
   "metadata": {},
   "outputs": [
    {
     "name": "stdout",
     "output_type": "stream",
     "text": [
      "Gráficas guardadas en 298/graficas\n",
      "Gráficas guardadas en 400/graficas\n",
      "Gráficas guardadas en 298-E/graficas\n"
     ]
    }
   ],
   "source": [
    "import numpy as np\n",
    "import matplotlib.pyplot as plt\n",
    "import os\n",
    "\n",
    "# Directorios donde están los archivos\n",
    "folders = [\"298\", \"400\",\"298-E\"]\n",
    "\n",
    "for folder in folders:\n",
    "    file_path = os.path.join(folder, \"temp.xvg\")  # Ruta del archivo dentro de cada carpeta\n",
    "    \n",
    "    if not os.path.exists(file_path):\n",
    "        print(f\"Archivo no encontrado: {file_path}\")\n",
    "        continue  # Saltar si el archivo no existe\n",
    "    \n",
    "    # Cargar los datos\n",
    "    data = np.loadtxt(file_path, comments='@')\n",
    "    time = data[:, 0]\n",
    "    temperature = data[:, 1]\n",
    "\n",
    "    # Crear carpeta de salida si no existe\n",
    "    output_folder = os.path.join(folder, \"graficas\")\n",
    "    os.makedirs(output_folder, exist_ok=True)\n",
    "\n",
    "    # 1. Graficar la curva de temperatura\n",
    "    plt.figure(figsize=(10, 6))\n",
    "    plt.plot(time, temperature, label='Temperatura', color='blue', marker='o', linestyle='-', markersize=4)\n",
    "    plt.title(f'Temperatura a lo largo del tiempo ({folder}K)')\n",
    "    plt.xlabel('Tiempo (ps)')\n",
    "    plt.ylabel('Temperatura (K)')\n",
    "    plt.grid(True)\n",
    "    plt.legend()\n",
    "    plt.savefig(os.path.join(output_folder, 'grafico_temperatura.jpg'), dpi=300, bbox_inches='tight')\n",
    "    plt.close()\n",
    "\n",
    "    # 2. Graficar el histograma\n",
    "    plt.figure(figsize=(10, 6))\n",
    "    width = 2\n",
    "    plt.hist(temperature, bins=np.arange(min(temperature), max(temperature) + width, width), color='green', alpha=0.5, edgecolor='black')\n",
    "    plt.title(f'Histograma de Temperaturas ({folder}K)')\n",
    "    plt.xlabel('Temperatura (K)')\n",
    "    plt.ylabel('Frecuencia')\n",
    "    plt.grid(True)\n",
    "    plt.savefig(os.path.join(output_folder, 'histograma_temperatura.jpg'), dpi=300, bbox_inches='tight')\n",
    "    plt.close()\n",
    "\n",
    "    print(f\"Gráficas guardadas en {output_folder}\")\n"
   ]
  }
 ],
 "metadata": {
  "kernelspec": {
   "display_name": "Python 3.9",
   "language": "python",
   "name": "python3"
  },
  "language_info": {
   "codemirror_mode": {
    "name": "ipython",
    "version": 3
   },
   "file_extension": ".py",
   "mimetype": "text/x-python",
   "name": "python",
   "nbconvert_exporter": "python",
   "pygments_lexer": "ipython3",
   "version": "3.9.21"
  }
 },
 "nbformat": 4,
 "nbformat_minor": 5
}
